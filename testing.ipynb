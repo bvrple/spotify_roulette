{
 "cells": [
  {
   "cell_type": "code",
   "execution_count": 60,
   "metadata": {},
   "outputs": [
    {
     "name": "stdout",
     "output_type": "stream",
     "text": [
      "Trust: https://api.spotify.com/v1/tracks/3wcZJ9ZPoJepzn8QXCAnYl\n",
      "Choosey Lover: https://api.spotify.com/v1/tracks/62CCDdh0XegW511btyRSNP\n",
      "Exhibit C: https://api.spotify.com/v1/tracks/23uJbBKyqs1dibvfECdjSH\n",
      "Life's a B*tch: https://api.spotify.com/v1/tracks/6x1h2IjySyKTC3JlMx73l4\n",
      "She Hates the Bass: https://api.spotify.com/v1/tracks/4phgxncpmCJ7mgAQsCsD3X\n",
      "Hammers & Vogues: https://api.spotify.com/v1/tracks/32x1tZJNjnxlXuEDHarazK\n",
      "Snakes: https://api.spotify.com/v1/tracks/3dkLUA4zs07CnhchRuRV6J\n",
      "Hazeus View: https://api.spotify.com/v1/tracks/5wrM3MbU9xNuSZGbmRm9B7\n",
      "On & On (feat. Maverick Sabre & Dyemond Lewis): https://api.spotify.com/v1/tracks/3nndHObJ5j5wpSKhTVODDG\n",
      "Piece of Mind: https://api.spotify.com/v1/tracks/79eDnbSBUXoSaoRPqUhTur\n",
      "95 Till Infinity: https://api.spotify.com/v1/tracks/7GTQgSPs8BYbn3YbmS78N8\n",
      "Sit n' Prey (feat. Dessy & T'nah Apex) (feat. Dessy & T'nah Apex): https://api.spotify.com/v1/tracks/0F1DQ2uVP823zh96gm6AUI\n",
      "Studio: https://api.spotify.com/v1/tracks/29gsi1zZrZxdStACmTQB0Z\n",
      "Aston Martin Music: https://api.spotify.com/v1/tracks/5W7xC99N2Zzfh69r7I7zWK\n",
      "Can't Be Friends: https://api.spotify.com/v1/tracks/0H6fDB7YaMZe1rXCmATx9l\n",
      "Love Faces: https://api.spotify.com/v1/tracks/5rX60GiR64Epgri9Ubjzg9\n",
      "Call Out My Name: https://api.spotify.com/v1/tracks/09mEdoA6zrmBPgTEN5qXmN\n",
      "FREAK IN YOU: https://api.spotify.com/v1/tracks/16aNJYinJv9AAetWD5yJen\n",
      "SLS: https://api.spotify.com/v1/tracks/76KisxMoH4cttuaGcT1kUA\n",
      "Bout It: https://api.spotify.com/v1/tracks/4IO4BwhnPKBEyyfz7FzSXG\n",
      "What Do You Mean?: https://api.spotify.com/v1/tracks/4DmgUMnnCw27Tu5Jvqhm1n\n",
      "One Night Only: https://api.spotify.com/v1/tracks/37ZLnF6SYHTrWJbzvUlQJv\n",
      "Sober: https://api.spotify.com/v1/tracks/3C57ewlHARCVqeH3KiYkma\n",
      "Got Friends: https://api.spotify.com/v1/tracks/1PVza5KmhSJhz12OewWciE\n",
      "I Wish I Missed My Ex: https://api.spotify.com/v1/tracks/4jwP0pxx7su04FYc6J12EQ\n",
      "Surprise Me: https://api.spotify.com/v1/tracks/5deVg0xkVdJQZ8at6uuNwB\n",
      "Petty Lover: https://api.spotify.com/v1/tracks/6d4E3KLrX4xiwx1DiIJefO\n",
      "Zer0: https://api.spotify.com/v1/tracks/0yZSZr7iM5EhwSE6dsjljf\n",
      "Footsteps (feat. Musiq Soulchild): https://api.spotify.com/v1/tracks/4k6hX9RKD096K1NCjjJZLc\n",
      "Hard Place: https://api.spotify.com/v1/tracks/47OqtEbWGkG6eDNGUNCYYB\n",
      "My Bad: https://api.spotify.com/v1/tracks/1DUSuNhF8P5vUGNPpQiZa5\n",
      "Triggered (freestyle): https://api.spotify.com/v1/tracks/3PAptX72PPmjj1Igms0zjo\n",
      "Jill (Sumn Real): https://api.spotify.com/v1/tracks/6hR9oWhCZcH5Pgp8hwOjsT\n",
      "Thursday: https://api.spotify.com/v1/tracks/1cPBPL1FlwRM7mYXixVmJB\n",
      "Location: https://api.spotify.com/v1/tracks/152lZdxL1OR0ZMW6KquMif\n",
      "Pause: https://api.spotify.com/v1/tracks/76AbJUvQCeWa0zSo7PjsTb\n",
      "Doobies: https://api.spotify.com/v1/tracks/0Ib0OEKNLWAotTodHd8BfN\n",
      "Ease: https://api.spotify.com/v1/tracks/28S5O7SVnfgjdAIhvMERmU\n",
      "Teardrops (feat. Mugun): https://api.spotify.com/v1/tracks/3QNXJrOAjlN95CPmZvQ4x2\n",
      "Shade: https://api.spotify.com/v1/tracks/4kIRyUnl8elQFStSL8866M\n",
      "Don't Mean A Thing: https://api.spotify.com/v1/tracks/33BtlwXUBRunGdnHAy9Qdi\n",
      "Khlorine (feat. Smino): https://api.spotify.com/v1/tracks/33aMIf2dRy8Fs95Q3W8IAl\n",
      "Dapper (feat. Anderson .Paak): https://api.spotify.com/v1/tracks/2Nh2cMryoXl7BrZoIeN2Pr\n",
      "Fetti: https://api.spotify.com/v1/tracks/3aCTEIt6oIAeNU3cG2RTAG\n",
      "Vixen: https://api.spotify.com/v1/tracks/3HBZIY3FVzXu6YjhExNqWe\n",
      "Waves: https://api.spotify.com/v1/tracks/3AM2ihc5RFzbC47eCpTg2I\n",
      "The Essence: https://api.spotify.com/v1/tracks/2j36iWSMTg412fdTQx4WdI\n",
      "Free Nation Rebel Soldier 2: https://api.spotify.com/v1/tracks/6gQ31HRUQX2XkwyTGk2QO0\n",
      "514: https://api.spotify.com/v1/tracks/02n35GX2yoQaBKUVnCONKH\n",
      "Everybody Dies In Their Nightmares: https://api.spotify.com/v1/tracks/3GVkPk8mqxz0itaAriG1L7\n"
     ]
    }
   ],
   "source": [
    "import json\n",
    "\n",
    "f = open(\"data.json\", \"r\")\n",
    "\n",
    "data = json.load(f)\n",
    "\n",
    "for i in range(len(data[\"items\"])):\n",
    "    print(f\"{data['items'][i]['track']['name']}: {data['items'][i]['track']['href']}\")\n"
   ]
  },
  {
   "cell_type": "code",
   "execution_count": 93,
   "metadata": {},
   "outputs": [
    {
     "name": "stdout",
     "output_type": "stream",
     "text": [
      "['37i9dQZF1DWT6MhXz0jw61', '37i9dQZF1DWYmmr74INQlb', '0L3CyZ90B6csQ50jb0idrL', '37i9dQZF1EUMDoJuT8yJsl', '58NUu1xNbb0AGiovGV0Sl8']\n"
     ]
    }
   ],
   "source": [
    "import re\n",
    "\n",
    "def (retriev)\n",
    "\n",
    "pattern = re.compile('^https://open.spotify.com/playlist/([a-zA-Z0-9]+).*$')\n",
    "\n",
    "text = \"https://open.spotify.com/playlist/58NUu1xNbb0AGiovGV0Sl8\"\n",
    "\n",
    "# playlists = [input('Playlist One: '), input('Playlist Two'), input('Playlist Three'), input('Playlist Four'), input('Playlist Five')]\n",
    "playlists = [\"https://open.spotify.com/playlist/37i9dQZF1DWT6MhXz0jw61?si=c6c62f9348044ab0\", \n",
    "             \"https://open.spotify.com/playlist/37i9dQZF1DWYmmr74INQlb?si=17c3bf40339e4a4a\", \n",
    "             \"https://open.spotify.com/playlist/0L3CyZ90B6csQ50jb0idrL?si=43c1a6b3bc604182\", \n",
    "             \"https://open.spotify.com/playlist/37i9dQZF1EUMDoJuT8yJsl?si=7665e943ff994818\", \n",
    "             \"https://open.spotify.com/playlist/58NUu1xNbb0AGiovGV0Sl8?si=86b47f62f3e64094\"\n",
    "             ]\n",
    "\n",
    "playlist_ids = [pattern.findall(play_id)[0] for play_id in playlists]\n",
    "\n",
    "print(playlist_ids)"
   ]
  },
  {
   "cell_type": "code",
   "execution_count": 95,
   "metadata": {},
   "outputs": [
    {
     "name": "stdout",
     "output_type": "stream",
     "text": [
      "['37i9dQZF1DWT6MhXz0jw61', '37i9dQZF1DWYmmr74INQlb', '0L3CyZ90B6csQ50jb0idrL', '37i9dQZF1EUMDoJuT8yJsl', '58NUu1xNbb0AGiovGV0Sl8']\n"
     ]
    }
   ],
   "source": [
    "import json\n",
    "import re\n",
    "import requests\n",
    "from secrets import spotify_id, spotify_token\n",
    "\n",
    "\n",
    "def jprint(obj):\n",
    "    # create a formatted string of the Python JSON object\n",
    "    text = json.dumps(obj, sort_keys=True, indent=4)\n",
    "    print(text)\n",
    "    \n",
    "\n",
    "def recieve_playlist_ids():\n",
    "    pattern = re.compile('^https://open.spotify.com/playlist/([a-zA-Z0-9]+).*$')\n",
    "\n",
    "    # playlists = [input('Playlist One: '), input('Playlist Two'), input('Playlist Three'), input('Playlist Four'), input('Playlist Five')]\n",
    "    playlists = [\"https://open.spotify.com/playlist/37i9dQZF1DWT6MhXz0jw61?si=c6c62f9348044ab0\", \n",
    "                \"https://open.spotify.com/playlist/37i9dQZF1DWYmmr74INQlb?si=17c3bf40339e4a4a\", \n",
    "                \"https://open.spotify.com/playlist/0L3CyZ90B6csQ50jb0idrL?si=43c1a6b3bc604182\", \n",
    "                \"https://open.spotify.com/playlist/37i9dQZF1EUMDoJuT8yJsl?si=7665e943ff994818\", \n",
    "                \"https://open.spotify.com/playlist/58NUu1xNbb0AGiovGV0Sl8?si=86b47f62f3e64094\"\n",
    "                ]\n",
    "\n",
    "    playlist_ids = [pattern.findall(play_id)[0] for play_id in playlists]\n",
    "    return playlist_ids\n",
    "\n",
    "\n",
    "\n",
    "def extract_playlist_json():\n",
    "    \n",
    "    recieve_playlist_ids()\n",
    "    \n",
    "    plist_one, plist_two, plist_three, plist_four, plist_five = playlist_ids\n",
    "    \n",
    "    print(playlist_ids)\n",
    "\n",
    "extract_playlist_json()"
   ]
  },
  {
   "cell_type": "code",
   "execution_count": 96,
   "metadata": {},
   "outputs": [
    {
     "name": "stdout",
     "output_type": "stream",
     "text": [
      "{'0': 'https://open.spotify.com/playlist/37i9dQZF1DWT6MhXz0jw61?si=c6c62f9348044ab0', '1': 'https://open.spotify.com/playlist/37i9dQZF1DWYmmr74INQlb?si=17c3bf40339e4a4a', '2': 'https://open.spotify.com/playlist/0L3CyZ90B6csQ50jb0idrL?si=43c1a6b3bc604182', '3': 'https://open.spotify.com/playlist/37i9dQZF1EUMDoJuT8yJsl?si=7665e943ff994818', '4': 'https://open.spotify.com/playlist/58NUu1xNbb0AGiovGV0Sl8?si=86b47f62f3e64094'}\n"
     ]
    }
   ],
   "source": [
    "playlists = [\"https://open.spotify.com/playlist/37i9dQZF1DWT6MhXz0jw61?si=c6c62f9348044ab0\", \n",
    "                    \"https://open.spotify.com/playlist/37i9dQZF1DWYmmr74INQlb?si=17c3bf40339e4a4a\", \n",
    "                    \"https://open.spotify.com/playlist/0L3CyZ90B6csQ50jb0idrL?si=43c1a6b3bc604182\", \n",
    "                    \"https://open.spotify.com/playlist/37i9dQZF1EUMDoJuT8yJsl?si=7665e943ff994818\", \n",
    "                    \"https://open.spotify.com/playlist/58NUu1xNbb0AGiovGV0Sl8?si=86b47f62f3e64094\"\n",
    "                    ]\n",
    "\n",
    "x = {str(k):v for k, v in enumerate(playlists)}\n",
    "\n",
    "print(x)"
   ]
  },
  {
   "cell_type": "code",
   "execution_count": null,
   "metadata": {},
   "outputs": [],
   "source": []
  }
 ],
 "metadata": {
  "language_info": {
   "name": "python"
  },
  "orig_nbformat": 4
 },
 "nbformat": 4,
 "nbformat_minor": 2
}
